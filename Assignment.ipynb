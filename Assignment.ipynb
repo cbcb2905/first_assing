{
 "cells": [
  {
   "cell_type": "code",
   "execution_count": 14,
   "id": "9e91184e-65b0-480a-9b3b-220cecd52dd5",
   "metadata": {},
   "outputs": [],
   "source": [
    "#Q1 -  Explain the key features of Python that make it a popular choice for programming?\n"
   ]
  },
  {
   "cell_type": "markdown",
   "id": "b0f79c81-bc14-44a1-b894-395472d8d3c3",
   "metadata": {},
   "source": [
    "Python's popularity as a programming language stems from several key features that make it appealing to both beginners and experienced developers:-\n",
    "1-Simple and Readable Syntax: Python's syntax is clean and easy to understand, resembling plain English. This simplicity reduces the learning curve and makes code easier to read and maintain.\n",
    "\n",
    "2-Versatility: Python is a general-purpose language that supports multiple programming paradigms, including procedural, object-oriented, and functional programming. This flexibility allows it to be used in various fields, such as web development, data science, artificial intelligence, automation, and more.\n",
    "\n",
    "3-Extensive Standard Library: Python comes with a comprehensive standard library that provides tools and modules for a wide range of tasks, from file handling and regular expressions to web services and data manipulation. This reduces the need to write code from scratch for common tasks.\n",
    "\n",
    "4-Large and Active Community: Python has a vast and supportive community of developers. This means abundant resources, such as tutorials, documentation, forums, and third-party libraries, making it easier to find help and expand the language’s functionality.\n",
    "\n",
    "5-Cross-Platform Compatibility: Python is platform-independent, meaning it can run on various operating systems like Windows, macOS, and Linux without requiring modification. This portability is crucial for developing applications that need to work on multiple platforms.\n",
    "\n",
    "These features combine to make Python a versatile, powerful, and accessible language, contributing to its widespread adoption across various industries and applications."
   ]
  },
  {
   "cell_type": "code",
   "execution_count": null,
   "id": "f578b045-5df5-4f7d-94c4-a17684179790",
   "metadata": {},
   "outputs": [],
   "source": [
    "#Q2 - Describe the role of predefined keywords in Python and provide examples of how they are used in a program"
   ]
  },
  {
   "cell_type": "raw",
   "id": "f1d5f50b-7389-4ad2-91dd-d7fe49e64e27",
   "metadata": {},
   "source": [
    "In Python, predefined keywords are reserved words that have special meanings and cannot be used as identifiers (such as variable names, function names, or class names). These keywords are integral to the language's syntax and structure, and they define the fundamental building blocks of Python programs. Each keyword has a specific role and purpose within the language.\n",
    "\n",
    "- if, elif, and else are used for conditional statements.\n",
    "- for and while are used for looping.\n",
    "- break and continue alter the flow of loops.\n",
    "- return exits a function and optionally returns a value."
   ]
  },
  {
   "cell_type": "code",
   "execution_count": null,
   "id": "43bddc2e-44a8-40f5-8344-c86f458ca85c",
   "metadata": {},
   "outputs": [],
   "source": [
    "#Examnple\n",
    "\n",
    "x = 10\n",
    "if x > 5:\n",
    "    print(\"x is greater than 5\")\n",
    "elif x == 5:\n",
    "    print(\"x is equal to 5\")\n",
    "else:\n",
    "    print(\"x is less than 5\")\n"
   ]
  },
  {
   "cell_type": "code",
   "execution_count": null,
   "id": "a8a490e8-074d-41ce-b533-95c61cc97fa0",
   "metadata": {},
   "outputs": [],
   "source": [
    "#Q3 - Compare and contrast mutable and immutable obects in Python with examples."
   ]
  },
  {
   "cell_type": "raw",
   "id": "0efe0742-45cb-4d71-9698-3ddaf024d634",
   "metadata": {},
   "source": [
    "Mutable Objects-\n",
    "\n",
    "Definition: Mutable objects can be changed or modified after they are created. This means you can alter their content or state without creating a new object.\n",
    "\n",
    "Example of Mutable Objects:\n",
    "List\n",
    "\n",
    "Characteristics:\n",
    "\n",
    "Modifiable: You can change, add, or remove elements.\n",
    "In-Place Changes: Operations on mutable objects change the original object.\n",
    "Efficiency: For some use cases, mutable objects can be more efficient because they avoid the need for creating new objects."
   ]
  },
  {
   "cell_type": "code",
   "execution_count": 4,
   "id": "917e98c9-c5d9-49c6-acc1-6304d5512c53",
   "metadata": {},
   "outputs": [
    {
     "name": "stdout",
     "output_type": "stream",
     "text": [
      "[1, 2, 3]\n",
      "[10, 2, 3]\n"
     ]
    }
   ],
   "source": [
    "\n",
    "# Mutable list example\n",
    "my_list = [1, 2, 3]\n",
    "print(my_list)  # Output: [1, 2, 3]\n",
    "\n",
    "\n",
    "# Modify an element in the list\n",
    "my_list[0] = 10\n",
    "print(my_list)  # Output: [10, 2, 3]\n"
   ]
  },
  {
   "cell_type": "raw",
   "id": "0784e61f-5bcd-4364-8350-76d7715cf572",
   "metadata": {},
   "source": [
    "Immutable Objects\n",
    "Definition: Immutable objects cannot be changed after they are created. Any modification attempts result in the creation of a new object.\n",
    "\n",
    "Examples of Immutable Objects:\n",
    "\n",
    "Integers\n",
    "Floats\n",
    "Strings\n",
    "Tuples\n",
    "Characteristics:\n",
    "\n",
    "Non-Modifiable: Once created, their content or state cannot be altered.\n",
    "New Object Creation: Any change creates a new object rather than modifying the original one.\n",
    "Safety: Immutable objects are generally safer to use as they can’t be changed inadvertently, which helps avoid side effects."
   ]
  },
  {
   "cell_type": "code",
   "execution_count": 5,
   "id": "d72b8a29-d939-4304-8834-aa139e9881cf",
   "metadata": {},
   "outputs": [
    {
     "name": "stdout",
     "output_type": "stream",
     "text": [
      "hello\n",
      "HELLO\n",
      "hello\n"
     ]
    }
   ],
   "source": [
    "\n",
    "# Immutable string example\n",
    "my_string = \"hello\"\n",
    "print(my_string)  # Output: hello\n",
    "\n",
    "# Attempt to modify the string\n",
    "new_string = my_string.upper()\n",
    "print(new_string)  # Output: HELLO\n",
    "print(my_string)   # Output: hello (original string remains unchanged)\n"
   ]
  },
  {
   "cell_type": "markdown",
   "id": "fbc71c7a-ef8c-4a65-9c85-afa9932e42ff",
   "metadata": {},
   "source": [
    "Comparison-\n",
    "\n",
    "Modification:\n",
    "\n",
    "Mutable: Can be changed in place (e.g., modifying a list or dictionary).\n",
    "Immutable: Cannot be changed once created; any modification results in a new object (e.g., modifying a string or tuple).\n",
    "\n",
    "Performance:\n",
    "\n",
    "Mutable: Generally more efficient for operations that require frequent modifications.\n",
    "Immutable: Can be less efficient for operations requiring frequent updates due to the need to create new objects.\n",
    "\n",
    "Use Cases:\n",
    "\n",
    "Mutable: Suitable for scenarios where data needs to be changed, such as managing collections of items.\n",
    "Immutable: Ideal for fixed data that should not change, ensuring data consistency and safety (e.g., keys in a dictionary).\n",
    "\n",
    "Side Effects:\n",
    "\n",
    "Mutable: Can lead to unintended side effects if shared across different parts of a program.\n",
    "Immutable: Reduces risk of side effects since the original object cannot be altered."
   ]
  },
  {
   "cell_type": "code",
   "execution_count": null,
   "id": "4fc16246-489f-4122-acdb-5814c540ed94",
   "metadata": {},
   "outputs": [],
   "source": [
    "#Q4 - Discuss the different types of operators in Python and provide examples of how they are used."
   ]
  },
  {
   "cell_type": "markdown",
   "id": "159776fb-b294-4fad-b910-d2913c4f758a",
   "metadata": {},
   "source": [
    "In Python programming, Operators in general are used to perform operations on values and variables. These are standard symbols used for logical and arithmetic operations. In this article, we will look into different types of Python operators. \n",
    "\n",
    "Types of Operators in Python\n",
    "1-Arithmetic Operators\n",
    "2-Comparison Operators\n",
    "3-Logical Operators\n",
    "4-Bitwise Operators\n",
    "5-Assignment Operators\n",
    "6-Identity Operators and Membership Operators"
   ]
  },
  {
   "cell_type": "markdown",
   "id": "ea49fe12-4c98-4769-b2c6-534a355b9ff2",
   "metadata": {},
   "source": [
    "1. Arithmetic Operators\n",
    "These operators perform basic arithmetic operations:\n",
    "    \n",
    "Addition (+): Adds two operands.\n",
    "Subtraction (-): Subtracts the second operand from the first.\n",
    "Multiplication (*): Multiplies two operands.\n",
    "Division (/): Divides the first operand by the second, returns a float.\n",
    "Floor Division (//): Divides the first operand by the second, returns an integer (truncated).\n",
    "Modulus (%): Returns the remainder of division.\n",
    "Exponentiation (**): Raises the first operand to the power of the second."
   ]
  },
  {
   "cell_type": "code",
   "execution_count": null,
   "id": "7bc77cf2-4e07-49fb-8182-43ea65be83c9",
   "metadata": {},
   "outputs": [],
   "source": [
    "#Example\n",
    "a = 5\n",
    "b = 3\n",
    "result = a + b  # 8\n",
    "result = a - b  # 2\n",
    "result = a * b  # 15\n",
    "result = a / b  # 1.6667\n",
    "result = a // b  # 1\n",
    "result = a % b  # 2\n",
    "result = a ** b  # 125\n"
   ]
  },
  {
   "cell_type": "markdown",
   "id": "97ca0b30-ab8c-45d1-adf7-114176d54419",
   "metadata": {},
   "source": [
    "2. Comparison Operators\n",
    "These operators compare two values and return a boolean result (True or False):\n",
    "1- Equal to (==): Checks if two operands are equal.\n",
    "2- Not equal to (!=): Checks if two operands are not equal.\n",
    "3- Greater than (>): Checks if the first operand is greater than the second.\n",
    "4- Less than (<): Checks if the first operand is less than the second.\n",
    "5- Greater than or equal to (>=): Checks if the first operand is greater than or equal to the second.\n",
    "6- Less than or equal to (<=): Checks if the first operand is less than or equal to the second."
   ]
  },
  {
   "cell_type": "code",
   "execution_count": 10,
   "id": "43b1609c-2cad-4f4f-ba4b-ea79cc65436f",
   "metadata": {},
   "outputs": [],
   "source": [
    "#Example\n",
    "a = 5\n",
    "b = 3\n",
    "result = (a == b)  # False\n",
    "result = (a != b)  # True\n",
    "result = (a > b)  # True\n",
    "result = (a < b)  # False\n",
    "result = (a >= b)  # True\n",
    "result = (a <= b)  # False"
   ]
  },
  {
   "cell_type": "markdown",
   "id": "69fb589a-4f5f-45bc-9161-598b00d54ad6",
   "metadata": {},
   "source": [
    "3. Logical Operators\n",
    "These operators are used to perform logical operations:\n",
    "1- And (and): Returns True if both operands are True.\n",
    "2- Or (or): Returns True if at least one of the operands is True.\n",
    "3- Not (not): Returns True if the operand is False"
   ]
  },
  {
   "cell_type": "code",
   "execution_count": 16,
   "id": "fc38938e-56cd-47c6-9b0f-1abb715f9d30",
   "metadata": {},
   "outputs": [],
   "source": [
    "#Example\n",
    "a = 5\n",
    "b = 3\n",
    "result = (a > 2 and b < 5)  # True\n",
    "result = (a > 2 or b > 5)  # True\n",
    "result = not(a > b)  # False"
   ]
  },
  {
   "cell_type": "markdown",
   "id": "27cda92b-d4ac-4bb2-adc5-37fe527d5d1f",
   "metadata": {},
   "source": [
    "4. Assignment Operators\n",
    "These operators are used to assign values to variables:\n",
    "1- Assignment (=): Assigns a value to a variable.\n",
    "2- Addition Assignment (+=): Adds the right operand to the left operand and assigns the result to the left operand.\n",
    "3- Subtraction Assignment (-=): Subtracts the right operand from the left operand and assigns the result to the left operand.\n",
    "4- Multiplication Assignment (*=): Multiplies the left operand by the right operand and assigns the result to the left operand.\n",
    "5- Division Assignment (/=): Divides the left operand by the right operand and assigns the result to the left operand.\n",
    "6- Floor Division Assignment (//=): Performs floor division and assigns the result to the left operand.\n",
    "7- Modulus Assignment (%=): Performs modulus operation and assigns the result to the left operand.\n",
    "8- Exponentiation Assignment (**=): Performs exponentiation and assigns the result to the left operand."
   ]
  },
  {
   "cell_type": "markdown",
   "id": "9f3c5c61-11e7-4068-ae96-7ff91873f1ae",
   "metadata": {},
   "source": [
    "5. Bitwise Operators\n",
    "These operators perform bit-level operations:\n",
    "1- AND (&): Performs a bitwise AND operation.\n",
    "2- OR (|): Performs a bitwise OR operation.\n",
    "3- XOR (^): Performs a bitwise XOR operation.\n",
    "4- NOT (~): Performs a bitwise NOT operation."
   ]
  },
  {
   "cell_type": "code",
   "execution_count": 17,
   "id": "d8277cf8-ac57-4239-bed5-af200b9bee8c",
   "metadata": {},
   "outputs": [],
   "source": [
    "#Example\n",
    "\n",
    "result = 5 & 3  # 1\n",
    "result = 5 | 3  # 7\n",
    "result = 5 ^ 3  # 6\n",
    "result = ~5  # -6\n"
   ]
  },
  {
   "cell_type": "code",
   "execution_count": null,
   "id": "d7e4948c-a631-4890-aa16-74927cddbb18",
   "metadata": {},
   "outputs": [],
   "source": [
    "#Q5 - Explain the concept of type casting in Python with examples."
   ]
  },
  {
   "cell_type": "markdown",
   "id": "10229c79-d957-4fd8-82cd-a49e9bc23967",
   "metadata": {},
   "source": [
    "\n",
    "Type casting in Python refers to converting a variable from one data type to another. This is often necessary when performing operations that require specific types or when you need to ensure data compatibility. Python provides several built-in functions for type casting:\n",
    "\n",
    "int() - Converts a value to an integer.\n",
    "float() - Converts a value to a float (decimal).\n",
    "str() - Converts a value to a string.\n",
    "list() - Converts a value to a list.\n",
    "tuple() - Converts a value to a tuple.\n",
    "set() - Converts a value to a set."
   ]
  },
  {
   "cell_type": "code",
   "execution_count": 2,
   "id": "bc602dd4-df31-4e5b-9a48-9fb39021518b",
   "metadata": {},
   "outputs": [
    {
     "name": "stdout",
     "output_type": "stream",
     "text": [
      "5\n",
      "10.0\n",
      "123\n",
      "3.14\n",
      "(1, 2, 3)\n",
      "{1, 2, 3}\n"
     ]
    }
   ],
   "source": [
    "#Examples\n",
    "\n",
    "#Converting from float to int:\n",
    "\n",
    "num = 5.67\n",
    "num_int = int(num)\n",
    "print(num_int)  # Output: 5\n",
    "\n",
    "#Converting from int to float:\n",
    "\n",
    "num = 10\n",
    "num_float = float(num)\n",
    "print(num_float)  # Output: 10.0\n",
    "\n",
    "#Converting from int to str:\n",
    "\n",
    "num = 123\n",
    "num_str = str(num)\n",
    "print(num_str)  # Output: '123'\n",
    "\n",
    "#Converting from str to float:\n",
    "\n",
    "num_str = \"3.14\"\n",
    "num = float(num_str)\n",
    "print(num)  # Output: 3.14\n",
    "\n",
    "\n",
    "#Converting from list to tuple:\n",
    "\n",
    "my_list = [1, 2, 3]\n",
    "my_tuple = tuple(my_list)\n",
    "print(my_tuple)  # Output: (1, 2, 3)\n",
    "\n",
    "\n",
    "#Converting from tuple to set:\n",
    "\n",
    "my_tuple = (1, 2, 2, 3)\n",
    "my_set = set(my_tuple)\n",
    "print(my_set)  # Output: {1, 2, 3}\n",
    "\n"
   ]
  },
  {
   "cell_type": "code",
   "execution_count": null,
   "id": "c3f3e1b3-ec62-4e12-979c-0944fb460ee5",
   "metadata": {},
   "outputs": [],
   "source": [
    "#Q6 -  How do conditional statements work in Python? Illustrate with examples."
   ]
  },
  {
   "cell_type": "markdown",
   "id": "6ecdf69b-ba8d-454b-8a1a-3590395131fc",
   "metadata": {},
   "source": [
    "Conditional statements in Python allow you to execute certain blocks of code based on specific conditions. They are essential for decision-making in programming. The primary conditional statements in Python are if, elif, and else. Here’s a breakdown of how they work:\n",
    "\n",
    "Basic Structure:\n",
    "\n",
    "if Statement:\n",
    "\n",
    "Evaluates a condition. If the condition is True, the code block under the if statement is executed.\n",
    "\n",
    "elif Statement:\n",
    "\n",
    "Stands for \"else if\". It’s used when you have multiple conditions to check. If the condition for if is False, it checks the condition for elif. You can have multiple elif statements.\n",
    "\n",
    "else Statement:\n",
    "\n",
    "It’s used to execute a block of code if none of the preceding conditions (if and elif) are True."
   ]
  },
  {
   "cell_type": "code",
   "execution_count": 3,
   "id": "7b93c112-0575-4252-9325-0f73b89391aa",
   "metadata": {},
   "outputs": [
    {
     "name": "stdout",
     "output_type": "stream",
     "text": [
      "It's warm outside.\n"
     ]
    }
   ],
   "source": [
    "#Example\n",
    "\n",
    "# Define a variable\n",
    "temperature = 75\n",
    "\n",
    "# Check the temperature and print a message based on the condition\n",
    "if temperature > 80:\n",
    "    print(\"It's hot outside.\")\n",
    "elif temperature > 60:\n",
    "    print(\"It's warm outside.\")\n",
    "else:\n",
    "    print(\"It's cool outside.\")\n"
   ]
  },
  {
   "cell_type": "markdown",
   "id": "4c2d58af-ed3f-4df1-840c-9d1cc21fd66b",
   "metadata": {},
   "source": [
    "Nested Conditionals\n",
    "You can also nest conditionals inside one another:"
   ]
  },
  {
   "cell_type": "code",
   "execution_count": 4,
   "id": "3418a920-daa7-44a4-8f41-f8f9dfa33732",
   "metadata": {},
   "outputs": [
    {
     "name": "stdout",
     "output_type": "stream",
     "text": [
      "You are an adult and can drink alcohol.\n"
     ]
    }
   ],
   "source": [
    "#Example\n",
    "\n",
    "age = 25\n",
    "\n",
    "if age >= 18:\n",
    "    if age < 21:\n",
    "        print(\"You are an adult but not old enough to drink alcohol.\")\n",
    "    else:\n",
    "        print(\"You are an adult and can drink alcohol.\")\n",
    "else:\n",
    "    print(\"You are not an adult yet.\")\n"
   ]
  },
  {
   "cell_type": "code",
   "execution_count": null,
   "id": "a8ab2081-a485-4178-8790-d3dbed4d9228",
   "metadata": {},
   "outputs": [],
   "source": [
    "#Q7 - Describe the different types of loops in Python and their use cases with examples."
   ]
  },
  {
   "cell_type": "markdown",
   "id": "8ac861e1-8fb7-4860-af94-e0c60dafc20e",
   "metadata": {},
   "source": [
    "Python provides several types of loops for iterating over data or executing a block of code repeatedly. Here’s a breakdown of the main types:\n",
    "\n",
    "1 -  for Loop\n",
    "     The for loop is used to iterate over elements of a sequence (like a list, tuple, or string) or any iterable object.\n",
    "2 - while Loop\n",
    "    The while loop repeatedly executes a block of code as long as a specified condition is true.\n",
    "3 - break Statement\n",
    "    The break statement is used to exit a loop prematurely.\n",
    "4 - continue Statement\n",
    "    The continue statement skips the rest of the code inside the loop for the current iteration and proceeds to the next iteration."
   ]
  },
  {
   "cell_type": "code",
   "execution_count": 5,
   "id": "86a7f035-fbf7-48e1-b6b5-28e9befbbb71",
   "metadata": {},
   "outputs": [
    {
     "name": "stdout",
     "output_type": "stream",
     "text": [
      "1\n",
      "2\n",
      "3\n",
      "4\n",
      "5\n",
      "h\n",
      "e\n",
      "l\n",
      "l\n",
      "o\n",
      "5\n",
      "4\n",
      "3\n",
      "2\n",
      "1\n",
      "0\n",
      "1\n",
      "2\n",
      "3\n",
      "4\n",
      "1\n",
      "3\n",
      "5\n",
      "7\n",
      "9\n"
     ]
    }
   ],
   "source": [
    "# Example For Loop\n",
    "\n",
    "# Iterating over a list\n",
    "numbers = [1, 2, 3, 4, 5]\n",
    "for num in numbers:\n",
    "    print(num)\n",
    "\n",
    "# Iterating over a string\n",
    "for char in \"hello\":\n",
    "    print(char)\n",
    "    \n",
    "#Example While loop\n",
    "# Counting down from 5\n",
    "count = 5\n",
    "while count > 0:\n",
    "    print(count)\n",
    "    count -= 1\n",
    "\n",
    "    \n",
    "#Example Break Statement\n",
    "\n",
    "for num in range(10):\n",
    "    if num == 5:\n",
    "        break\n",
    "    print(num)  # Will print numbers from 0 to 4\n",
    "\n",
    "    \n",
    "#Example continue statement\n",
    "\n",
    "for num in range(10):\n",
    "    if num % 2 == 0:\n",
    "        continue\n",
    "    print(num)  # Will print only odd numbers\n"
   ]
  },
  {
   "cell_type": "code",
   "execution_count": null,
   "id": "cded041f-9a33-4dc7-a4ab-cd7940a33fe0",
   "metadata": {},
   "outputs": [],
   "source": []
  }
 ],
 "metadata": {
  "kernelspec": {
   "display_name": "Python 3 (ipykernel)",
   "language": "python",
   "name": "python3"
  },
  "language_info": {
   "codemirror_mode": {
    "name": "ipython",
    "version": 3
   },
   "file_extension": ".py",
   "mimetype": "text/x-python",
   "name": "python",
   "nbconvert_exporter": "python",
   "pygments_lexer": "ipython3",
   "version": "3.10.8"
  }
 },
 "nbformat": 4,
 "nbformat_minor": 5
}
